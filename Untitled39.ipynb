{
  "nbformat": 4,
  "nbformat_minor": 0,
  "metadata": {
    "colab": {
      "provenance": [],
      "machine_shape": "hm",
      "gpuType": "V28"
    },
    "kernelspec": {
      "name": "python3",
      "display_name": "Python 3"
    },
    "language_info": {
      "name": "python"
    },
    "accelerator": "TPU"
  },
  "cells": [
    {
      "cell_type": "code",
      "execution_count": null,
      "metadata": {
        "id": "VJMm68lBscoj"
      },
      "outputs": [],
      "source": [
        "import pandas as pd\n",
        "\n",
        "df = pd.read_csv('/content/drive/MyDrive/Data Science Project/processed_train_dataset.csv')"
      ]
    },
    {
      "cell_type": "code",
      "source": [
        "class_distribution = df['sentiment'].value_counts()\n",
        "print(class_distribution)"
      ],
      "metadata": {
        "colab": {
          "base_uri": "https://localhost:8080/"
        },
        "id": "QR3xi9nUs79H",
        "outputId": "ca3cea96-e70c-4f87-fdb6-b1fa15d6c2ab"
      },
      "execution_count": null,
      "outputs": [
        {
          "output_type": "stream",
          "name": "stdout",
          "text": [
            "sentiment\n",
            "0    1913358\n",
            "1    1913205\n",
            "2    1912797\n",
            "Name: count, dtype: int64\n"
          ]
        }
      ]
    },
    {
      "cell_type": "code",
      "source": [
        "df = pd.read_csv('/content/drive/MyDrive/Data Science Project/processed_test_dataset.csv')"
      ],
      "metadata": {
        "id": "FB9_04Bave9M"
      },
      "execution_count": null,
      "outputs": []
    },
    {
      "cell_type": "code",
      "source": [
        "class_distribution = df['sentiment'].value_counts()\n",
        "print(class_distribution)"
      ],
      "metadata": {
        "id": "Al69xzhevp1e",
        "outputId": "7d39d7cb-e459-436d-9b4e-73bf11374131",
        "colab": {
          "base_uri": "https://localhost:8080/"
        }
      },
      "execution_count": null,
      "outputs": [
        {
          "output_type": "stream",
          "name": "stdout",
          "text": [
            "sentiment\n",
            "2    212892\n",
            "1    212484\n",
            "0    212331\n",
            "Name: count, dtype: int64\n"
          ]
        }
      ]
    }
  ]
}